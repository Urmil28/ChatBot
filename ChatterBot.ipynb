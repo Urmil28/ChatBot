{
 "cells": [
  {
   "cell_type": "code",
   "execution_count": 15,
   "metadata": {},
   "outputs": [],
   "source": [
    "from chatterbot import ChatBot\n",
    "from chatterbot.comparisons import levenshtein_distance\n",
    "from chatterbot.comparisons import JaccardSimilarity\n",
    "from chatterbot.response_selection import get_first_response\n",
    "\n",
    "# Create a new chat bot named Charles\n",
    "# A user defined comparision function can be made which maps synonyms to the trained data \n",
    "# using nltk_wordnet to make model robust to different words instead of the default function.\n",
    "    \n",
    "chatbot = ChatBot(\n",
    "    'Bot',\n",
    "    statement_comparison_function=levenshtein_distance,\n",
    "    response_selection_method=get_first_response,\n",
    "    trainer='chatterbot.trainers.ListTrainer',\n",
    "    logic_adapters=[\n",
    "        {\n",
    "            'import_path': 'chatterbot.logic.BestMatch',\n",
    "#             'statement_comparison_function': 'chatterbot.comparisons.levenshtein_distance'\n",
    "       },\n",
    "        {\n",
    "            'import_path': 'chatterbot.logic.LowConfidenceAdapter',\n",
    "            'threshold': 0.5,\n",
    "            'default_response': 'I am sorry, but I do not understand.'\n",
    "        }\n",
    "    ],\n",
    "    input_adapter=\"chatterbot.input.TerminalAdapter\",\n",
    "    output_adapter=\"chatterbot.output.TerminalAdapter\",\n",
    ")"
   ]
  },
  {
   "cell_type": "code",
   "execution_count": 16,
   "metadata": {},
   "outputs": [
    {
     "name": "stdout",
     "output_type": "stream",
     "text": [
      "List Trainer: [####################] 100%\n"
     ]
    }
   ],
   "source": [
    "chatbot.train([\n",
    "\"Hi\",\n",
    "\n",
    "\"Hello, what can i help you with?\",\n",
    "\n",
    "\"I am planning to install solar system on my rooftop and looking for installers.\",\n",
    "    \n",
    "\"Ok, do you know the capacity that you would like to install.\",\n",
    "\n",
    "\"No\",\n",
    "\n",
    "\"Ok, lets check your sunscore to identify your roof’s potential. Shall we?\",\n",
    "\n",
    "\"Yes\",\n",
    "\n",
    "\"So it shows that you can have a 10 KWp solar system on your roof.\",\n",
    "\n",
    "\"How much is your monthly electricity bill?\",\n",
    "\n",
    "\"I don’t know, i think it around Rs 5000. \",\n",
    "\n",
    "\"Ah ok, based on your electricity bill i think a 5 Kw system would be good for you.\",\n",
    "\n",
    "\"Based on the existing rates i think it should cost you around Rs 2,50,000. Do you want me to check with the installers servicing your area?\",\n",
    "\n",
    "\"Yes sure.\",\n",
    "\n",
    "\"Give me a moment.\",\n",
    "\n",
    "\"I found these 3 installers who service your location. Choose the ones you want me to ask the price from.\",\n",
    "\n",
    "\"Ok, i have sent them the request, would let you know when they send a response.\",\n",
    "\n",
    "\"Anything else you would like to know in the meanwhile?\",\n",
    "\n",
    "\"Are there any financing options?\",\n",
    "\n",
    "\"Sure, let me find that for you.\",\n",
    "\n",
    "\"Can you tell me if its a residential/ commercial/ industrial property.\",\n",
    "\n",
    "\"Residential\",\n",
    "\n",
    "\"what is your monthly income \",\n",
    "\n",
    "\"Rs 1,00,000\",\n",
    "\n",
    "\"Ok, let me check.\",\n",
    "\n",
    "\"Yes there is a personal loan from Y bank at 8% interest rate. Shall i ask them to contact you?\",\n",
    "\n",
    "\"Yes. sure.\",\n",
    "\n",
    "\"Done, also do you know you are eligible for a subsidy on this system.\",\n",
    "\n",
    "\"Shall i share the required document list with you. \",\n",
    "\n",
    "\"Sure.\",\n",
    "\n",
    "\"Ok, here you go.\",\n",
    "\n",
    "\"Anything else, i can help you with?\",\n",
    "\n",
    "\"No\",\n",
    "\n",
    "\"Ok, i will message you once i have quotes from those three installers.\",\n",
    "\n",
    "\"Have a nice day! Goodbye!\",\n",
    "\n",
    "])"
   ]
  },
  {
   "cell_type": "code",
   "execution_count": 18,
   "metadata": {},
   "outputs": [
    {
     "name": "stdout",
     "output_type": "stream",
     "text": [
      "Type something to begin...\n",
      "Hi\n",
      "Hello, what can i help you with?\n"
     ]
    }
   ],
   "source": [
    "print(\"Type something to begin...\")\n",
    "while True:\n",
    "    try:\n",
    "        # We pass None to this method because the parameter\n",
    "        # is not used by the TerminalAdapter\n",
    "        \n",
    "        bot_input = chatbot.get_response(None)\n",
    "\n",
    "    # Press ctrl-c or ctrl-d on the keyboard to exit\n",
    "    except (KeyboardInterrupt, EOFError, SystemExit):\n",
    "        break\n",
    "        # Get a response to the input text 'Hi'"
   ]
  },
  {
   "cell_type": "code",
   "execution_count": 14,
   "metadata": {},
   "outputs": [
    {
     "name": "stdout",
     "output_type": "stream",
     "text": [
      "Ok, do you know the capacity that you would like to install.\n"
     ]
    }
   ],
   "source": [
    "response = chatbot.get_response('I needed help installing solar panels on my rooftops')\n",
    "print(response)"
   ]
  }
 ],
 "metadata": {
  "kernelspec": {
   "display_name": "Python 3",
   "language": "python",
   "name": "python3"
  },
  "language_info": {
   "codemirror_mode": {
    "name": "ipython",
    "version": 3
   },
   "file_extension": ".py",
   "mimetype": "text/x-python",
   "name": "python",
   "nbconvert_exporter": "python",
   "pygments_lexer": "ipython3",
   "version": "3.6.5"
  }
 },
 "nbformat": 4,
 "nbformat_minor": 2
}
